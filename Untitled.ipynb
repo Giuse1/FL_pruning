{
 "cells": [
  {
   "cell_type": "code",
   "execution_count": 1,
   "metadata": {
    "pycharm": {
     "name": "#%%\n"
    }
   },
   "outputs": [],
   "source": [
    "import torch\n",
    "import torchvision\n",
    "from simplify import simplify\n",
    "from collections import OrderedDict\n",
    "import torch.nn.utils.prune as prune\n",
    "import copy\n",
    "import numpy as np"
   ]
  },
  {
   "cell_type": "code",
   "execution_count": 2,
   "outputs": [],
   "source": [
    "model = torchvision.models.vgg11()\n",
    "in_features = model.classifier[6].in_features\n",
    "model.classifier[6] = torch.nn.Linear(in_features, out_features=10, bias=True)\n",
    "\n",
    "starting_dict = copy.deepcopy(model.state_dict())"
   ],
   "metadata": {
    "collapsed": false,
    "pycharm": {
     "name": "#%%\n"
    }
   }
  },
  {
   "cell_type": "code",
   "execution_count": null,
   "outputs": [],
   "source": [],
   "metadata": {
    "collapsed": false,
    "pycharm": {
     "name": "#%%\n"
    }
   }
  },
  {
   "cell_type": "code",
   "execution_count": 3,
   "metadata": {
    "pycharm": {
     "name": "#%%\n"
    }
   },
   "outputs": [
    {
     "name": "stdout",
     "output_type": "stream",
     "text": [
      "\n"
     ]
    }
   ],
   "source": [
    "parameters_to_prune = (\n",
    "            (\"features.0\", 'weight'),\n",
    "            (\"features.3\", 'weight'),\n",
    "            (\"features.6\", 'weight'),\n",
    "            (\"features.8\", 'weight'),\n",
    "            (\"features.11\", 'weight'),\n",
    "            (\"features.13\", 'weight'),\n",
    "            (\"features.16\", 'weight'),\n",
    "            (\"features.18\", 'weight'),\n",
    "            (\"classifier.0\", 'weight'),\n",
    "            (\"classifier.3\", 'weight'))\n",
    "\n",
    "mask_dict = OrderedDict()\n",
    "for name, attr in parameters_to_prune:\n",
    "    layer_name, n = name.split(\".\")\n",
    "    prune.ln_structured(getattr(model, layer_name)[int(n)], name=attr,\n",
    "                        amount=0.5, n=2, dim=0) #pp_prune[f\"{layer_name}.{n}.{attr}\"]\n",
    "    mask_dict[name] = model.state_dict()[name+\".weight_mask\"]\n",
    "    prune.remove(getattr(model, layer_name)[int(n)], name=attr)\n",
    "\n",
    "dummy_input = torch.zeros(1, 3, 32, 32)\n",
    "simplify(model, dummy_input)\n",
    "\n",
    "simplified_dict = copy.deepcopy(model.state_dict())\n",
    "\n",
    "print()\n"
   ]
  },
  {
   "cell_type": "code",
   "execution_count": 4,
   "metadata": {
    "pycharm": {
     "name": "#%%\n"
    }
   },
   "outputs": [
    {
     "data": {
      "text/plain": "odict_keys(['features.0.weight', 'features.0.bias', 'features.3.weight', 'features.3.bias', 'features.6.weight', 'features.6.bias', 'features.8.weight', 'features.8.bias', 'features.11.weight', 'features.11.bias', 'features.13.weight', 'features.13.bias', 'features.16.weight', 'features.16.bias', 'features.18.weight', 'features.18.bias', 'classifier.0.weight', 'classifier.0.bias', 'classifier.3.weight', 'classifier.3.bias', 'classifier.6.weight', 'classifier.6.bias'])"
     },
     "execution_count": 4,
     "metadata": {},
     "output_type": "execute_result"
    }
   ],
   "source": [
    "starting_dict.keys()"
   ]
  },
  {
   "cell_type": "code",
   "execution_count": 38,
   "outputs": [
    {
     "data": {
      "text/plain": "odict_keys(['features.0', 'features.3', 'features.6', 'features.8', 'features.11', 'features.13', 'features.16', 'features.18', 'classifier.0', 'classifier.3'])"
     },
     "execution_count": 38,
     "metadata": {},
     "output_type": "execute_result"
    }
   ],
   "source": [
    "mask_dict.keys()"
   ],
   "metadata": {
    "collapsed": false,
    "pycharm": {
     "name": "#%%\n"
    }
   }
  },
  {
   "cell_type": "code",
   "execution_count": 5,
   "metadata": {
    "pycharm": {
     "name": "#%%\n"
    }
   },
   "outputs": [],
   "source": [
    "present_rows = [[0,1,2]]\n",
    "\n",
    "for k in mask_dict.keys():\n",
    "    tmp = []\n",
    "    for idx, e in enumerate(mask_dict[k]):\n",
    "        if e.sum() != 0:\n",
    "            tmp.append(idx)\n",
    "    present_rows.append(tmp)"
   ]
  },
  {
   "cell_type": "code",
   "execution_count": 43,
   "outputs": [
    {
     "data": {
      "text/plain": "['features.0',\n 'features.3',\n 'features.6',\n 'features.8',\n 'features.11',\n 'features.13',\n 'features.16',\n 'features.18',\n 'classifier.0',\n 'classifier.3',\n 'classifier.6']"
     },
     "execution_count": 43,
     "metadata": {},
     "output_type": "execute_result"
    }
   ],
   "source": [
    "original_keys = list(starting_dict.keys())\n",
    "original_keys = [k.replace(\".bias\",'') for k in original_keys]\n",
    "original_keys = [k.replace(\".weight\",'') for k in original_keys]\n",
    "original_keys = list(dict.fromkeys(original_keys))\n",
    "original_keys"
   ],
   "metadata": {
    "collapsed": false,
    "pycharm": {
     "name": "#%%\n"
    }
   }
  },
  {
   "cell_type": "code",
   "execution_count": 6,
   "metadata": {
    "pycharm": {
     "name": "#%%\n"
    }
   },
   "outputs": [
    {
     "data": {
      "text/plain": "11"
     },
     "execution_count": 6,
     "metadata": {},
     "output_type": "execute_result"
    }
   ],
   "source": [
    "len(present_rows)"
   ]
  },
  {
   "cell_type": "code",
   "execution_count": 7,
   "metadata": {
    "pycharm": {
     "name": "#%%\n"
    }
   },
   "outputs": [],
   "source": [
    "reconstruced_dict = OrderedDict()\n",
    "\n",
    "for idx_k, k in enumerate(mask_dict.keys()): \n",
    "    dim = mask_dict[k].shape\n",
    "    reconstructed_w = torch.zeros(dim)\n",
    "    reconstructed_b = torch.zeros(dim[0])\n",
    "\n",
    "    if \"features\" in k:\n",
    "\n",
    "        \n",
    "        for idx_r,r in enumerate(present_rows[idx_k+1]):\n",
    "            reconstructed_b[r] = model.state_dict()[k+\".bias\"][idx_r]\n",
    "            \n",
    "            for idx_c, c in enumerate(present_rows[idx_k]):\n",
    "\n",
    "                reconstructed_w[r,c] = model.state_dict()[k+\".weight\"][idx_r,idx_c]\n",
    "        reconstruced_dict[k+\".weight\"] = reconstructed_w\n",
    "        reconstruced_dict[k+\".bias\"] = reconstructed_b\n",
    "    elif \"classifier\" in k:\n",
    "\n",
    "        a = torch.load(f\"nonzero_indices/input/{k}.pt\")\n",
    "        b = torch.load(f\"nonzero_indices/output/{k}.pt\")\n",
    "\n",
    "        mask = torch.zeros(dim)\n",
    "\n",
    "        mask[b,:] += torch.ones((int(dim[0]/2), dim[1]))\n",
    "        mask[:,a] +=  torch.ones((dim[0], int(dim[1]/2)))\n",
    "        mask = mask == 2\n",
    "\n",
    "        reconstructed_b[b] = model.state_dict()[k+\".bias\"]\n",
    "        reconstruced_dict[k+\".bias\"] = reconstructed_b\n",
    "\n",
    "        reconstructed_w[mask] = torch.reshape(model.state_dict()[k+\".weight\"],(-1,))\n",
    "        reconstruced_dict[k+\".weight\"] = reconstructed_w\n",
    "\n",
    "k = \"classifier.6\"\n",
    "\n",
    "reconstruced_dict[k+\".bias\"] = model.state_dict()[\"classifier.6.bias\"]\n",
    "\n",
    "dim = starting_dict[\"classifier.6.weight\"].shape\n",
    "reconstructed_w = torch.zeros(dim)\n",
    "\n",
    "a = torch.load(f\"nonzero_indices/input/{k}.pt\")\n",
    "\n",
    "mask = torch.zeros(dim)\n",
    "\n",
    "mask[:,a] +=  torch.ones((dim[0], int(dim[1]/2)))\n",
    "mask = mask == 1\n",
    "\n",
    "\n",
    "reconstructed_w[mask] = torch.reshape(model.state_dict()[k+\".weight\"],(-1,))\n",
    "reconstruced_dict[k+\".weight\"] = reconstructed_w\n"
   ]
  },
  {
   "cell_type": "code",
   "execution_count": 8,
   "outputs": [
    {
     "data": {
      "text/plain": "<All keys matched successfully>"
     },
     "execution_count": 8,
     "metadata": {},
     "output_type": "execute_result"
    }
   ],
   "source": [
    "model = torchvision.models.vgg11()\n",
    "in_features = model.classifier[6].in_features\n",
    "model.classifier[6] = torch.nn.Linear(in_features, out_features=10, bias=True)\n",
    "model.load_state_dict(reconstruced_dict)\n"
   ],
   "metadata": {
    "collapsed": false,
    "pycharm": {
     "name": "#%%\n"
    }
   }
  },
  {
   "cell_type": "code",
   "execution_count": 9,
   "outputs": [
    {
     "data": {
      "text/plain": "VGG(\n  (features): Sequential(\n    (0): Conv2d(3, 32, kernel_size=(3, 3), stride=(1, 1), padding=(1, 1))\n    (1): ReLU(inplace=True)\n    (2): MaxPool2d(kernel_size=2, stride=2, padding=0, dilation=1, ceil_mode=False)\n    (3): Conv2d(32, 64, kernel_size=(3, 3), stride=(1, 1), padding=(1, 1))\n    (4): ReLU(inplace=True)\n    (5): MaxPool2d(kernel_size=2, stride=2, padding=0, dilation=1, ceil_mode=False)\n    (6): Conv2d(64, 128, kernel_size=(3, 3), stride=(1, 1), padding=(1, 1))\n    (7): ReLU(inplace=True)\n    (8): Conv2d(128, 128, kernel_size=(3, 3), stride=(1, 1), padding=(1, 1))\n    (9): ReLU(inplace=True)\n    (10): MaxPool2d(kernel_size=2, stride=2, padding=0, dilation=1, ceil_mode=False)\n    (11): Conv2d(128, 256, kernel_size=(3, 3), stride=(1, 1), padding=(1, 1))\n    (12): ReLU(inplace=True)\n    (13): Conv2d(256, 256, kernel_size=(3, 3), stride=(1, 1), padding=(1, 1))\n    (14): ReLU(inplace=True)\n    (15): MaxPool2d(kernel_size=2, stride=2, padding=0, dilation=1, ceil_mode=False)\n    (16): Conv2d(256, 256, kernel_size=(3, 3), stride=(1, 1), padding=(1, 1))\n    (17): ReLU(inplace=True)\n    (18): Conv2d(256, 256, kernel_size=(3, 3), stride=(1, 1), padding=(1, 1))\n    (19): ReLU(inplace=True)\n    (20): MaxPool2d(kernel_size=2, stride=2, padding=0, dilation=1, ceil_mode=False)\n  )\n  (avgpool): AdaptiveAvgPool2d(output_size=(7, 7))\n  (classifier): Sequential(\n    (0): Linear(in_features=12544, out_features=2048, bias=True)\n    (1): ReLU(inplace=True)\n    (2): Dropout(p=0.5, inplace=False)\n    (3): Linear(in_features=2048, out_features=2048, bias=True)\n    (4): ReLU(inplace=True)\n    (5): Dropout(p=0.5, inplace=False)\n    (6): Linear(in_features=2048, out_features=10, bias=True)\n  )\n)"
     },
     "execution_count": 9,
     "metadata": {},
     "output_type": "execute_result"
    }
   ],
   "source": [
    "for name, attr in parameters_to_prune:\n",
    "    layer_name, n = name.split(\".\")\n",
    "    prune.ln_structured(getattr(model, layer_name)[int(n)], name=attr,\n",
    "                        amount=0.5, n=2, dim=0) #pp_prune[f\"{layer_name}.{n}.{attr}\"]\n",
    "    prune.remove(getattr(model, layer_name)[int(n)], name=attr)\n",
    "\n",
    "dummy_input = torch.zeros(1, 3, 32, 32)\n",
    "simplify(model, dummy_input)"
   ],
   "metadata": {
    "collapsed": false,
    "pycharm": {
     "name": "#%%\n"
    }
   }
  },
  {
   "cell_type": "code",
   "execution_count": 10,
   "outputs": [
    {
     "name": "stdout",
     "output_type": "stream",
     "text": [
      "True\n",
      "True\n",
      "True\n",
      "True\n",
      "True\n",
      "True\n",
      "True\n",
      "True\n",
      "True\n",
      "True\n",
      "True\n",
      "True\n",
      "True\n",
      "True\n",
      "True\n",
      "True\n",
      "True\n",
      "True\n",
      "True\n",
      "True\n",
      "True\n",
      "True\n"
     ]
    }
   ],
   "source": [
    "for k,v in simplified_dict.items():\n",
    "    print(torch.equal(v, model.state_dict()[k]))"
   ],
   "metadata": {
    "collapsed": false,
    "pycharm": {
     "name": "#%%\n"
    }
   }
  },
  {
   "cell_type": "code",
   "execution_count": 11,
   "outputs": [],
   "source": [
    "nonzero_input = {k:torch.load(f\"nonzero_indices/input/{k.replace('.weight','')}.pt\") for k in starting_dict.keys() if \"weight\" in k}\n",
    "nonzero_output = {k: torch.load(f\"nonzero_indices/output/{k.replace('.weight','')}.pt\") for k in starting_dict.keys() if \"weight\" in k}\n"
   ],
   "metadata": {
    "collapsed": false,
    "pycharm": {
     "name": "#%%\n"
    }
   }
  },
  {
   "cell_type": "code",
   "execution_count": 12,
   "outputs": [
    {
     "data": {
      "text/plain": "odict_keys(['features.0.weight', 'features.0.bias', 'features.3.weight', 'features.3.bias', 'features.6.weight', 'features.6.bias', 'features.8.weight', 'features.8.bias', 'features.11.weight', 'features.11.bias', 'features.13.weight', 'features.13.bias', 'features.16.weight', 'features.16.bias', 'features.18.weight', 'features.18.bias', 'classifier.0.weight', 'classifier.0.bias', 'classifier.3.weight', 'classifier.3.bias', 'classifier.6.weight', 'classifier.6.bias'])"
     },
     "execution_count": 12,
     "metadata": {},
     "output_type": "execute_result"
    }
   ],
   "source": [
    "starting_dict.keys()"
   ],
   "metadata": {
    "collapsed": false,
    "pycharm": {
     "name": "#%%\n"
    }
   }
  },
  {
   "cell_type": "code",
   "execution_count": 13,
   "outputs": [
    {
     "name": "stdout",
     "output_type": "stream",
     "text": [
      "features.0.weight\n",
      "tensor(3)\n",
      "features.3.weight\n",
      "tensor(32)\n",
      "features.6.weight\n",
      "tensor(64)\n",
      "features.8.weight\n",
      "tensor(128)\n",
      "features.11.weight\n",
      "tensor(128)\n",
      "features.13.weight\n",
      "tensor(256)\n",
      "features.16.weight\n",
      "tensor(256)\n",
      "features.18.weight\n",
      "tensor(256)\n",
      "classifier.0.weight\n",
      "tensor(12544)\n",
      "classifier.3.weight\n",
      "tensor(2048)\n",
      "classifier.6.weight\n",
      "tensor(2048)\n"
     ]
    }
   ],
   "source": [
    "for k,v in nonzero_input.items():\n",
    "    print(k)\n",
    "    print(v.count_nonzero())\n"
   ],
   "metadata": {
    "collapsed": false,
    "pycharm": {
     "name": "#%%\n"
    }
   }
  },
  {
   "cell_type": "code",
   "execution_count": 14,
   "outputs": [
    {
     "name": "stdout",
     "output_type": "stream",
     "text": [
      "tensor(32)\n",
      "tensor(64)\n",
      "tensor(128)\n",
      "tensor(128)\n",
      "tensor(256)\n",
      "tensor(256)\n",
      "tensor(256)\n",
      "tensor(256)\n",
      "tensor(2048)\n",
      "tensor(2048)\n",
      "tensor(10)\n"
     ]
    }
   ],
   "source": [
    "for k,v in nonzero_output.items():\n",
    "    #(k)\n",
    "    print(v.count_nonzero())"
   ],
   "metadata": {
    "collapsed": false,
    "pycharm": {
     "name": "#%%\n"
    }
   }
  },
  {
   "cell_type": "code",
   "execution_count": null,
   "outputs": [],
   "source": [
    "nonzero_output = {k:torch.load(f\"nonzero_indices/output/{k.replace('.weight','')}.pt\") for k in starting_dict.keys() if \"weight\" in k}\n",
    "\n",
    "\n",
    "pp = [int(v.count_nonzero()) for v in nonzero_output.values()]\n",
    "pp.insert(0, 3)\n",
    "pp = pp[:len(p)]\n",
    "pp"
   ],
   "metadata": {
    "collapsed": false,
    "pycharm": {
     "name": "#%%\n"
    }
   }
  },
  {
   "cell_type": "code",
   "execution_count": 16,
   "outputs": [
    {
     "data": {
      "text/plain": "11"
     },
     "execution_count": 16,
     "metadata": {},
     "output_type": "execute_result"
    }
   ],
   "source": [
    "len(p)"
   ],
   "metadata": {
    "collapsed": false,
    "pycharm": {
     "name": "#%%\n"
    }
   }
  },
  {
   "cell_type": "code",
   "execution_count": 17,
   "outputs": [
    {
     "data": {
      "text/plain": "[[0, 1, 2],\n [0,\n  1,\n  2,\n  3,\n  4,\n  6,\n  8,\n  9,\n  10,\n  17,\n  18,\n  20,\n  21,\n  22,\n  23,\n  25,\n  27,\n  30,\n  32,\n  33,\n  36,\n  37,\n  40,\n  41,\n  42,\n  43,\n  44,\n  47,\n  50,\n  51,\n  56,\n  62],\n [2,\n  3,\n  4,\n  7,\n  10,\n  11,\n  12,\n  13,\n  14,\n  16,\n  18,\n  21,\n  22,\n  24,\n  27,\n  29,\n  30,\n  31,\n  35,\n  37,\n  38,\n  43,\n  44,\n  45,\n  47,\n  53,\n  55,\n  56,\n  58,\n  59,\n  60,\n  62,\n  65,\n  68,\n  70,\n  75,\n  76,\n  77,\n  78,\n  79,\n  80,\n  82,\n  83,\n  84,\n  87,\n  88,\n  90,\n  92,\n  94,\n  95,\n  100,\n  101,\n  102,\n  105,\n  107,\n  108,\n  111,\n  114,\n  115,\n  117,\n  118,\n  119,\n  123,\n  127],\n [2,\n  3,\n  8,\n  9,\n  11,\n  14,\n  15,\n  16,\n  19,\n  22,\n  23,\n  25,\n  26,\n  27,\n  29,\n  31,\n  32,\n  34,\n  35,\n  39,\n  43,\n  46,\n  48,\n  50,\n  53,\n  54,\n  56,\n  57,\n  58,\n  59,\n  61,\n  62,\n  63,\n  66,\n  67,\n  68,\n  69,\n  72,\n  74,\n  75,\n  76,\n  77,\n  80,\n  81,\n  82,\n  83,\n  87,\n  89,\n  92,\n  93,\n  95,\n  97,\n  99,\n  100,\n  101,\n  102,\n  104,\n  105,\n  106,\n  107,\n  109,\n  110,\n  111,\n  112,\n  114,\n  115,\n  116,\n  118,\n  119,\n  120,\n  121,\n  126,\n  129,\n  135,\n  136,\n  145,\n  149,\n  150,\n  151,\n  154,\n  157,\n  161,\n  162,\n  163,\n  164,\n  165,\n  166,\n  168,\n  170,\n  172,\n  174,\n  176,\n  177,\n  183,\n  187,\n  188,\n  190,\n  192,\n  195,\n  196,\n  202,\n  205,\n  206,\n  207,\n  212,\n  215,\n  218,\n  220,\n  221,\n  222,\n  224,\n  226,\n  230,\n  231,\n  232,\n  233,\n  236,\n  240,\n  241,\n  242,\n  243,\n  244,\n  245,\n  249,\n  251,\n  252,\n  253,\n  255],\n [2,\n  7,\n  8,\n  9,\n  12,\n  14,\n  15,\n  18,\n  20,\n  22,\n  25,\n  29,\n  31,\n  36,\n  38,\n  44,\n  45,\n  47,\n  52,\n  53,\n  56,\n  57,\n  58,\n  60,\n  61,\n  62,\n  63,\n  64,\n  65,\n  66,\n  68,\n  70,\n  71,\n  72,\n  75,\n  76,\n  77,\n  78,\n  79,\n  81,\n  82,\n  86,\n  89,\n  90,\n  93,\n  96,\n  97,\n  98,\n  101,\n  103,\n  106,\n  107,\n  118,\n  122,\n  123,\n  125,\n  126,\n  127,\n  128,\n  130,\n  131,\n  132,\n  133,\n  134,\n  135,\n  136,\n  137,\n  140,\n  142,\n  144,\n  145,\n  146,\n  147,\n  149,\n  150,\n  151,\n  152,\n  153,\n  155,\n  157,\n  158,\n  159,\n  160,\n  161,\n  162,\n  164,\n  166,\n  168,\n  170,\n  174,\n  175,\n  176,\n  178,\n  179,\n  180,\n  181,\n  183,\n  186,\n  187,\n  189,\n  190,\n  197,\n  205,\n  206,\n  207,\n  208,\n  210,\n  211,\n  213,\n  214,\n  218,\n  220,\n  222,\n  228,\n  229,\n  231,\n  236,\n  237,\n  238,\n  241,\n  244,\n  246,\n  247,\n  248,\n  249,\n  250,\n  252,\n  254],\n [0,\n  4,\n  5,\n  7,\n  9,\n  10,\n  14,\n  16,\n  18,\n  19,\n  22,\n  26,\n  30,\n  31,\n  33,\n  37,\n  39,\n  40,\n  41,\n  42,\n  43,\n  54,\n  56,\n  58,\n  61,\n  64,\n  66,\n  67,\n  68,\n  70,\n  73,\n  74,\n  76,\n  78,\n  90,\n  92,\n  94,\n  95,\n  100,\n  102,\n  103,\n  104,\n  106,\n  107,\n  110,\n  111,\n  118,\n  119,\n  121,\n  122,\n  127,\n  131,\n  134,\n  135,\n  136,\n  137,\n  138,\n  139,\n  140,\n  141,\n  142,\n  143,\n  145,\n  146,\n  147,\n  148,\n  149,\n  150,\n  151,\n  153,\n  154,\n  155,\n  161,\n  162,\n  163,\n  164,\n  165,\n  166,\n  172,\n  173,\n  174,\n  175,\n  177,\n  178,\n  179,\n  183,\n  185,\n  186,\n  188,\n  191,\n  192,\n  193,\n  196,\n  198,\n  200,\n  201,\n  204,\n  205,\n  207,\n  210,\n  211,\n  215,\n  216,\n  217,\n  218,\n  219,\n  224,\n  227,\n  228,\n  229,\n  233,\n  234,\n  235,\n  236,\n  238,\n  240,\n  242,\n  247,\n  248,\n  250,\n  254,\n  255,\n  256,\n  259,\n  262,\n  263,\n  267,\n  269,\n  271,\n  272,\n  273,\n  274,\n  275,\n  277,\n  279,\n  282,\n  283,\n  284,\n  285,\n  286,\n  288,\n  291,\n  292,\n  294,\n  295,\n  297,\n  298,\n  300,\n  302,\n  304,\n  305,\n  307,\n  308,\n  309,\n  311,\n  313,\n  316,\n  318,\n  320,\n  321,\n  323,\n  324,\n  326,\n  328,\n  330,\n  331,\n  333,\n  336,\n  337,\n  339,\n  342,\n  343,\n  345,\n  347,\n  351,\n  352,\n  353,\n  354,\n  358,\n  364,\n  367,\n  368,\n  369,\n  374,\n  376,\n  378,\n  379,\n  382,\n  385,\n  386,\n  387,\n  395,\n  396,\n  398,\n  399,\n  401,\n  403,\n  405,\n  406,\n  408,\n  411,\n  412,\n  413,\n  414,\n  417,\n  418,\n  420,\n  423,\n  424,\n  425,\n  426,\n  430,\n  431,\n  432,\n  433,\n  434,\n  435,\n  436,\n  437,\n  438,\n  439,\n  440,\n  441,\n  444,\n  446,\n  447,\n  450,\n  452,\n  454,\n  455,\n  457,\n  460,\n  465,\n  466,\n  468,\n  469,\n  473,\n  474,\n  477,\n  479,\n  480,\n  484,\n  485,\n  486,\n  489,\n  490,\n  492,\n  493,\n  497,\n  501,\n  502,\n  504,\n  505,\n  508,\n  509,\n  511],\n [6,\n  7,\n  8,\n  10,\n  11,\n  12,\n  13,\n  18,\n  19,\n  20,\n  21,\n  22,\n  28,\n  31,\n  33,\n  34,\n  35,\n  37,\n  41,\n  42,\n  43,\n  44,\n  48,\n  52,\n  56,\n  57,\n  61,\n  64,\n  65,\n  67,\n  69,\n  70,\n  73,\n  75,\n  77,\n  78,\n  80,\n  82,\n  83,\n  86,\n  87,\n  90,\n  95,\n  96,\n  97,\n  100,\n  103,\n  104,\n  106,\n  114,\n  115,\n  120,\n  124,\n  125,\n  126,\n  127,\n  128,\n  129,\n  131,\n  132,\n  135,\n  136,\n  137,\n  138,\n  141,\n  142,\n  143,\n  145,\n  147,\n  148,\n  151,\n  152,\n  153,\n  154,\n  156,\n  159,\n  160,\n  162,\n  164,\n  165,\n  167,\n  168,\n  171,\n  173,\n  174,\n  177,\n  178,\n  179,\n  180,\n  184,\n  185,\n  186,\n  187,\n  188,\n  192,\n  193,\n  195,\n  196,\n  197,\n  198,\n  201,\n  202,\n  205,\n  206,\n  209,\n  213,\n  214,\n  217,\n  218,\n  221,\n  229,\n  230,\n  232,\n  237,\n  239,\n  241,\n  242,\n  243,\n  246,\n  248,\n  249,\n  252,\n  258,\n  259,\n  260,\n  263,\n  264,\n  265,\n  268,\n  269,\n  271,\n  272,\n  273,\n  276,\n  277,\n  280,\n  281,\n  282,\n  283,\n  284,\n  288,\n  289,\n  291,\n  292,\n  293,\n  296,\n  299,\n  300,\n  302,\n  305,\n  306,\n  307,\n  308,\n  310,\n  311,\n  312,\n  313,\n  315,\n  319,\n  330,\n  332,\n  334,\n  335,\n  336,\n  338,\n  341,\n  343,\n  344,\n  345,\n  347,\n  348,\n  351,\n  353,\n  355,\n  356,\n  358,\n  359,\n  361,\n  362,\n  364,\n  365,\n  368,\n  372,\n  378,\n  379,\n  382,\n  384,\n  388,\n  389,\n  391,\n  394,\n  395,\n  396,\n  398,\n  406,\n  407,\n  411,\n  414,\n  417,\n  421,\n  423,\n  424,\n  426,\n  428,\n  433,\n  437,\n  438,\n  439,\n  440,\n  441,\n  442,\n  443,\n  444,\n  446,\n  447,\n  448,\n  450,\n  451,\n  452,\n  454,\n  456,\n  457,\n  458,\n  461,\n  462,\n  463,\n  464,\n  467,\n  468,\n  469,\n  471,\n  476,\n  477,\n  480,\n  482,\n  484,\n  485,\n  487,\n  489,\n  491,\n  492,\n  493,\n  494,\n  495,\n  497,\n  498,\n  499,\n  500,\n  501,\n  502,\n  504,\n  505,\n  506,\n  507,\n  508,\n  509],\n [1,\n  2,\n  3,\n  5,\n  7,\n  8,\n  9,\n  10,\n  13,\n  14,\n  15,\n  19,\n  20,\n  22,\n  23,\n  26,\n  27,\n  28,\n  31,\n  34,\n  39,\n  40,\n  46,\n  48,\n  49,\n  50,\n  52,\n  54,\n  56,\n  61,\n  62,\n  66,\n  68,\n  70,\n  71,\n  75,\n  77,\n  80,\n  82,\n  84,\n  86,\n  88,\n  90,\n  91,\n  92,\n  93,\n  97,\n  98,\n  101,\n  104,\n  105,\n  106,\n  107,\n  108,\n  109,\n  110,\n  114,\n  116,\n  120,\n  123,\n  125,\n  127,\n  128,\n  132,\n  138,\n  140,\n  142,\n  145,\n  146,\n  147,\n  150,\n  152,\n  155,\n  156,\n  160,\n  161,\n  163,\n  166,\n  167,\n  169,\n  173,\n  175,\n  177,\n  178,\n  182,\n  183,\n  185,\n  186,\n  187,\n  188,\n  192,\n  195,\n  196,\n  199,\n  202,\n  203,\n  205,\n  206,\n  208,\n  209,\n  211,\n  214,\n  215,\n  219,\n  222,\n  224,\n  225,\n  227,\n  229,\n  230,\n  232,\n  234,\n  240,\n  242,\n  246,\n  247,\n  249,\n  250,\n  251,\n  257,\n  258,\n  260,\n  262,\n  265,\n  266,\n  269,\n  271,\n  273,\n  274,\n  275,\n  277,\n  278,\n  279,\n  280,\n  283,\n  284,\n  285,\n  287,\n  289,\n  290,\n  291,\n  293,\n  296,\n  298,\n  299,\n  303,\n  307,\n  310,\n  311,\n  312,\n  314,\n  316,\n  317,\n  319,\n  320,\n  321,\n  324,\n  326,\n  327,\n  328,\n  329,\n  330,\n  331,\n  336,\n  337,\n  340,\n  341,\n  342,\n  343,\n  344,\n  346,\n  347,\n  348,\n  349,\n  350,\n  352,\n  353,\n  354,\n  356,\n  361,\n  362,\n  364,\n  367,\n  368,\n  372,\n  373,\n  375,\n  378,\n  379,\n  380,\n  384,\n  386,\n  395,\n  396,\n  397,\n  398,\n  401,\n  403,\n  407,\n  409,\n  410,\n  412,\n  414,\n  415,\n  419,\n  420,\n  421,\n  422,\n  424,\n  425,\n  428,\n  429,\n  430,\n  435,\n  438,\n  443,\n  445,\n  446,\n  448,\n  450,\n  451,\n  452,\n  455,\n  460,\n  461,\n  462,\n  464,\n  466,\n  468,\n  469,\n  470,\n  472,\n  473,\n  474,\n  476,\n  477,\n  478,\n  479,\n  480,\n  481,\n  482,\n  483,\n  484,\n  485,\n  486,\n  488,\n  489,\n  490,\n  493,\n  497,\n  498,\n  500,\n  501,\n  505,\n  507,\n  510],\n [0,\n  1,\n  3,\n  5,\n  11,\n  14,\n  16,\n  17,\n  18,\n  21,\n  23,\n  26,\n  28,\n  29,\n  30,\n  31,\n  32,\n  33,\n  35,\n  36,\n  38,\n  39,\n  40,\n  41,\n  42,\n  46,\n  47,\n  48,\n  50,\n  52,\n  54,\n  56,\n  58,\n  62,\n  63,\n  66,\n  67,\n  68,\n  70,\n  72,\n  73,\n  75,\n  78,\n  80,\n  83,\n  85,\n  86,\n  90,\n  95,\n  98,\n  100,\n  103,\n  104,\n  105,\n  107,\n  108,\n  115,\n  116,\n  117,\n  118,\n  121,\n  125,\n  127,\n  131,\n  132,\n  134,\n  135,\n  138,\n  139,\n  140,\n  141,\n  143,\n  146,\n  147,\n  148,\n  149,\n  150,\n  158,\n  159,\n  160,\n  161,\n  163,\n  164,\n  165,\n  173,\n  174,\n  175,\n  176,\n  180,\n  181,\n  182,\n  183,\n  184,\n  186,\n  189,\n  191,\n  192,\n  193,\n  194,\n  197,\n  198,\n  199,\n  200,\n  202,\n  203,\n  204,\n  206,\n  207,\n  208,\n  209,\n  210,\n  211,\n  215,\n  220,\n  222,\n  227,\n  228,\n  232,\n  238,\n  242,\n  243,\n  245,\n  246,\n  250,\n  251,\n  253,\n  254,\n  255,\n  257,\n  258,\n  259,\n  260,\n  262,\n  265,\n  266,\n  271,\n  272,\n  273,\n  275,\n  277,\n  278,\n  280,\n  281,\n  283,\n  284,\n  286,\n  288,\n  291,\n  292,\n  295,\n  296,\n  297,\n  299,\n  300,\n  302,\n  303,\n  306,\n  309,\n  310,\n  311,\n  317,\n  320,\n  322,\n  323,\n  328,\n  329,\n  330,\n  331,\n  332,\n  333,\n  334,\n  335,\n  338,\n  339,\n  344,\n  346,\n  350,\n  351,\n  354,\n  357,\n  359,\n  361,\n  364,\n  365,\n  366,\n  367,\n  368,\n  369,\n  370,\n  371,\n  372,\n  375,\n  382,\n  386,\n  389,\n  390,\n  393,\n  397,\n  400,\n  401,\n  402,\n  403,\n  406,\n  407,\n  409,\n  412,\n  415,\n  416,\n  419,\n  421,\n  423,\n  426,\n  427,\n  428,\n  430,\n  431,\n  433,\n  435,\n  439,\n  440,\n  442,\n  448,\n  452,\n  454,\n  455,\n  457,\n  463,\n  465,\n  466,\n  468,\n  469,\n  470,\n  471,\n  472,\n  473,\n  476,\n  477,\n  478,\n  480,\n  481,\n  487,\n  488,\n  489,\n  490,\n  491,\n  496,\n  499,\n  500,\n  502,\n  503,\n  504,\n  505,\n  506,\n  508,\n  510,\n  511],\n [0,\n  1,\n  8,\n  9,\n  13,\n  15,\n  20,\n  21,\n  22,\n  25,\n  29,\n  32,\n  35,\n  37,\n  39,\n  40,\n  41,\n  44,\n  45,\n  46,\n  48,\n  50,\n  52,\n  55,\n  57,\n  63,\n  64,\n  65,\n  66,\n  68,\n  69,\n  72,\n  73,\n  76,\n  77,\n  78,\n  80,\n  81,\n  84,\n  85,\n  87,\n  88,\n  89,\n  90,\n  91,\n  95,\n  96,\n  97,\n  99,\n  101,\n  102,\n  103,\n  105,\n  106,\n  112,\n  113,\n  116,\n  117,\n  121,\n  124,\n  125,\n  129,\n  131,\n  132,\n  134,\n  137,\n  138,\n  142,\n  145,\n  146,\n  150,\n  151,\n  153,\n  155,\n  156,\n  158,\n  160,\n  161,\n  162,\n  163,\n  164,\n  167,\n  169,\n  172,\n  173,\n  174,\n  175,\n  177,\n  180,\n  182,\n  187,\n  188,\n  191,\n  192,\n  194,\n  196,\n  197,\n  198,\n  201,\n  205,\n  206,\n  207,\n  208,\n  211,\n  213,\n  215,\n  216,\n  219,\n  220,\n  221,\n  224,\n  226,\n  229,\n  230,\n  231,\n  234,\n  235,\n  236,\n  237,\n  240,\n  242,\n  243,\n  247,\n  249,\n  251,\n  254,\n  257,\n  259,\n  260,\n  262,\n  264,\n  265,\n  266,\n  267,\n  269,\n  273,\n  275,\n  277,\n  278,\n  280,\n  282,\n  283,\n  284,\n  287,\n  288,\n  289,\n  292,\n  299,\n  302,\n  303,\n  304,\n  305,\n  306,\n  307,\n  308,\n  309,\n  310,\n  312,\n  313,\n  319,\n  324,\n  326,\n  328,\n  329,\n  330,\n  333,\n  338,\n  339,\n  342,\n  343,\n  344,\n  345,\n  346,\n  347,\n  352,\n  353,\n  355,\n  357,\n  358,\n  361,\n  362,\n  364,\n  365,\n  367,\n  374,\n  375,\n  378,\n  379,\n  380,\n  382,\n  384,\n  385,\n  387,\n  390,\n  391,\n  393,\n  397,\n  400,\n  401,\n  407,\n  408,\n  409,\n  412,\n  415,\n  416,\n  418,\n  419,\n  420,\n  421,\n  422,\n  423,\n  424,\n  426,\n  429,\n  430,\n  431,\n  434,\n  437,\n  438,\n  439,\n  440,\n  441,\n  442,\n  445,\n  446,\n  447,\n  449,\n  454,\n  455,\n  456,\n  457,\n  458,\n  461,\n  462,\n  463,\n  464,\n  467,\n  468,\n  471,\n  472,\n  474,\n  476,\n  478,\n  482,\n  486,\n  488,\n  489,\n  490,\n  491,\n  492,\n  496,\n  499,\n  500,\n  501,\n  505,\n  506,\n  508,\n  509,\n  510,\n  511,\n  512,\n  513,\n  514,\n  516,\n  522,\n  526,\n  527,\n  531,\n  535,\n  537,\n  540,\n  545,\n  548,\n  551,\n  561,\n  562,\n  563,\n  564,\n  566,\n  567,\n  568,\n  569,\n  570,\n  572,\n  574,\n  578,\n  584,\n  585,\n  588,\n  590,\n  592,\n  594,\n  595,\n  599,\n  601,\n  602,\n  605,\n  607,\n  610,\n  612,\n  613,\n  614,\n  615,\n  616,\n  617,\n  618,\n  620,\n  621,\n  625,\n  626,\n  627,\n  628,\n  629,\n  630,\n  631,\n  633,\n  637,\n  638,\n  639,\n  642,\n  645,\n  646,\n  647,\n  648,\n  649,\n  651,\n  653,\n  654,\n  655,\n  656,\n  657,\n  662,\n  663,\n  667,\n  668,\n  669,\n  670,\n  672,\n  673,\n  675,\n  679,\n  680,\n  681,\n  683,\n  686,\n  692,\n  694,\n  695,\n  696,\n  697,\n  701,\n  703,\n  705,\n  708,\n  709,\n  712,\n  713,\n  714,\n  715,\n  716,\n  719,\n  722,\n  723,\n  724,\n  726,\n  727,\n  728,\n  729,\n  731,\n  736,\n  737,\n  739,\n  740,\n  741,\n  743,\n  744,\n  745,\n  746,\n  748,\n  750,\n  758,\n  762,\n  764,\n  765,\n  767,\n  769,\n  770,\n  773,\n  778,\n  783,\n  784,\n  785,\n  787,\n  790,\n  792,\n  794,\n  795,\n  796,\n  797,\n  800,\n  801,\n  805,\n  806,\n  809,\n  814,\n  815,\n  816,\n  819,\n  820,\n  822,\n  827,\n  831,\n  833,\n  834,\n  835,\n  836,\n  838,\n  840,\n  844,\n  847,\n  848,\n  849,\n  851,\n  852,\n  853,\n  854,\n  856,\n  865,\n  867,\n  868,\n  869,\n  872,\n  874,\n  876,\n  883,\n  884,\n  890,\n  892,\n  896,\n  897,\n  898,\n  899,\n  900,\n  901,\n  902,\n  903,\n  904,\n  905,\n  906,\n  910,\n  911,\n  912,\n  914,\n  915,\n  917,\n  918,\n  919,\n  922,\n  923,\n  925,\n  929,\n  930,\n  931,\n  933,\n  934,\n  935,\n  937,\n  938,\n  939,\n  941,\n  942,\n  944,\n  945,\n  946,\n  947,\n  948,\n  949,\n  952,\n  953,\n  954,\n  956,\n  957,\n  958,\n  960,\n  961,\n  962,\n  964,\n  965,\n  966,\n  968,\n  970,\n  972,\n  973,\n  974,\n  978,\n  980,\n  981,\n  983,\n  986,\n  988,\n  990,\n  993,\n  994,\n  995,\n  998,\n  999,\n  1002,\n  1003,\n  1004,\n  1008,\n  1010,\n  1016,\n  1018,\n  1019,\n  1020,\n  1029,\n  1030,\n  1034,\n  1035,\n  1038,\n  1039,\n  1040,\n  1043,\n  1044,\n  1047,\n  1048,\n  1049,\n  1050,\n  1052,\n  1053,\n  1055,\n  1057,\n  1058,\n  1062,\n  1063,\n  1065,\n  1066,\n  1067,\n  1069,\n  1071,\n  1072,\n  1078,\n  1079,\n  1086,\n  1089,\n  1092,\n  1093,\n  1094,\n  1097,\n  1098,\n  1099,\n  1101,\n  1102,\n  1104,\n  1106,\n  1107,\n  1108,\n  1110,\n  1113,\n  1117,\n  1119,\n  1122,\n  1123,\n  1124,\n  1125,\n  1128,\n  1129,\n  1133,\n  1134,\n  1136,\n  1137,\n  1138,\n  1140,\n  1141,\n  1145,\n  1149,\n  1150,\n  1151,\n  1152,\n  1153,\n  1154,\n  1155,\n  1158,\n  1163,\n  1164,\n  1166,\n  1169,\n  1170,\n  1173,\n  1174,\n  1175,\n  1179,\n  1182,\n  1184,\n  1185,\n  1186,\n  1188,\n  1189,\n  1191,\n  1192,\n  1193,\n  1195,\n  1196,\n  1199,\n  1201,\n  1204,\n  1205,\n  1210,\n  1211,\n  1215,\n  1216,\n  1218,\n  1219,\n  1221,\n  1224,\n  1227,\n  1228,\n  1229,\n  1231,\n  1236,\n  1237,\n  1238,\n  1239,\n  1240,\n  1241,\n  1242,\n  1244,\n  1247,\n  1248,\n  1251,\n  1254,\n  1255,\n  1257,\n  1259,\n  1262,\n  1265,\n  1266,\n  1267,\n  1268,\n  1269,\n  1271,\n  1272,\n  1273,\n  1276,\n  1277,\n  1278,\n  1279,\n  1282,\n  1283,\n  1285,\n  1286,\n  1287,\n  1289,\n  1290,\n  1291,\n  1293,\n  1295,\n  1296,\n  1298,\n  1299,\n  1300,\n  1301,\n  1303,\n  1306,\n  1307,\n  1308,\n  1309,\n  1311,\n  1313,\n  1314,\n  1315,\n  1318,\n  1322,\n  1323,\n  1324,\n  1327,\n  1328,\n  1329,\n  1331,\n  1333,\n  1334,\n  1336,\n  1338,\n  1339,\n  1341,\n  1343,\n  1344,\n  1348,\n  1352,\n  1353,\n  1359,\n  1360,\n  1363,\n  1364,\n  1366,\n  1368,\n  1371,\n  1372,\n  1373,\n  1374,\n  1375,\n  1376,\n  1377,\n  1378,\n  1379,\n  1381,\n  1382,\n  1384,\n  1388,\n  1393,\n  1394,\n  1396,\n  1397,\n  1398,\n  1399,\n  1400,\n  1403,\n  1406,\n  1409,\n  1410,\n  1411,\n  1412,\n  1414,\n  1417,\n  1418,\n  1424,\n  1425,\n  1427,\n  1432,\n  1433,\n  1434,\n  1436,\n  1438,\n  1439,\n  1442,\n  1444,\n  1447,\n  1448,\n  1451,\n  1453,\n  1454,\n  1460,\n  1461,\n  1469,\n  1470,\n  1474,\n  1476,\n  1477,\n  1478,\n  1479,\n  1480,\n  1481,\n  1483,\n  1487,\n  1488,\n  1489,\n  1491,\n  1492,\n  1496,\n  1497,\n  1499,\n  1500,\n  1501,\n  1502,\n  1503,\n  1507,\n  1510,\n  1511,\n  1512,\n  1514,\n  1515,\n  1517,\n  1519,\n  1520,\n  1523,\n  1528,\n  1531,\n  1534,\n  1535,\n  1537,\n  1538,\n  1539,\n  1544,\n  1545,\n  1546,\n  1547,\n  1549,\n  1550,\n  1551,\n  1552,\n  1555,\n  1556,\n  1558,\n  1559,\n  1561,\n  1563,\n  1564,\n  1567,\n  1568,\n  1570,\n  1574,\n  1577,\n  1580,\n  1581,\n  1583,\n  1587,\n  1593,\n  1594,\n  1595,\n  1599,\n  1601,\n  1603,\n  1604,\n  1606,\n  1610,\n  1611,\n  1612,\n  1614,\n  1617,\n  1618,\n  1623,\n  1626,\n  1631,\n  1632,\n  1634,\n  1635,\n  1638,\n  1641,\n  1642,\n  1645,\n  1648,\n  1649,\n  1650,\n  1651,\n  1652,\n  1653,\n  1654,\n  1655,\n  1656,\n  1662,\n  1665,\n  1666,\n  1669,\n  1670,\n  1671,\n  1673,\n  1675,\n  1676,\n  1680,\n  1681,\n  1682,\n  1684,\n  1685,\n  1690,\n  1691,\n  1692,\n  1693,\n  1694,\n  1695,\n  1696,\n  1699,\n  1701,\n  1704,\n  1705,\n  1707,\n  1709,\n  1711,\n  1714,\n  1716,\n  1719,\n  1720,\n  1722,\n  1723,\n  1724,\n  1725,\n  1726,\n  1727,\n  1729,\n  1732,\n  1733,\n  1734,\n  1740,\n  1742,\n  1746,\n  1748,\n  1749,\n  1751,\n  1752,\n  1753,\n  1754,\n  1759,\n  1760,\n  1761,\n  1762,\n  1764,\n  1765,\n  1766,\n  1767,\n  1768,\n  1769,\n  1771,\n  1772,\n  1774,\n  1775,\n  1777,\n  1778,\n  1779,\n  1780,\n  1782,\n  1783,\n  1784,\n  1787,\n  1789,\n  1790,\n  1793,\n  1794,\n  1797,\n  1809,\n  1810,\n  1811,\n  1812,\n  1816,\n  1817,\n  1818,\n  1819,\n  1822,\n  1824,\n  1825,\n  1827,\n  1828,\n  1830,\n  1831,\n  1832,\n  1833,\n  1835,\n  1842,\n  1843,\n  1844,\n  1845,\n  1846,\n  1847,\n  1849,\n  1850,\n  1853,\n  1854,\n  1855,\n  1862,\n  1865,\n  1867,\n  1871,\n  1873,\n  1874,\n  1876,\n  1881,\n  1885,\n  1887,\n  1888,\n  1889,\n  1896,\n  1897,\n  1899,\n  1900,\n  1902,\n  1904,\n  1906,\n  1910,\n  1913,\n  1917,\n  1918,\n  1919,\n  1922,\n  1925,\n  1927,\n  1928,\n  1929,\n  1930,\n  1931,\n  1933,\n  1934,\n  1935,\n  1936,\n  1937,\n  1938,\n  1940,\n  1943,\n  1944,\n  1946,\n  1947,\n  1951,\n  1952,\n  1954,\n  1957,\n  1958,\n  1959,\n  1964,\n  1966,\n  1968,\n  1969,\n  1971,\n  1972,\n  ...],\n [0,\n  2,\n  5,\n  7,\n  8,\n  9,\n  10,\n  13,\n  14,\n  15,\n  17,\n  20,\n  23,\n  24,\n  25,\n  26,\n  27,\n  28,\n  31,\n  32,\n  35,\n  36,\n  37,\n  38,\n  41,\n  42,\n  43,\n  48,\n  49,\n  51,\n  52,\n  54,\n  56,\n  59,\n  60,\n  63,\n  65,\n  72,\n  73,\n  75,\n  78,\n  84,\n  85,\n  88,\n  89,\n  93,\n  96,\n  97,\n  107,\n  109,\n  111,\n  112,\n  113,\n  114,\n  115,\n  116,\n  118,\n  120,\n  121,\n  122,\n  124,\n  125,\n  126,\n  127,\n  131,\n  132,\n  133,\n  135,\n  136,\n  137,\n  144,\n  148,\n  149,\n  151,\n  152,\n  153,\n  154,\n  155,\n  157,\n  159,\n  160,\n  161,\n  164,\n  165,\n  167,\n  169,\n  172,\n  174,\n  175,\n  176,\n  177,\n  179,\n  184,\n  185,\n  187,\n  191,\n  192,\n  193,\n  195,\n  200,\n  201,\n  202,\n  204,\n  205,\n  210,\n  211,\n  219,\n  222,\n  223,\n  224,\n  225,\n  226,\n  229,\n  231,\n  236,\n  239,\n  243,\n  245,\n  248,\n  249,\n  251,\n  254,\n  255,\n  263,\n  264,\n  266,\n  267,\n  271,\n  272,\n  274,\n  275,\n  276,\n  278,\n  279,\n  281,\n  282,\n  284,\n  289,\n  292,\n  296,\n  299,\n  300,\n  305,\n  306,\n  308,\n  314,\n  315,\n  319,\n  320,\n  322,\n  323,\n  324,\n  326,\n  330,\n  335,\n  337,\n  339,\n  340,\n  341,\n  342,\n  343,\n  347,\n  348,\n  350,\n  352,\n  359,\n  362,\n  363,\n  368,\n  371,\n  375,\n  376,\n  379,\n  380,\n  382,\n  384,\n  386,\n  387,\n  388,\n  390,\n  393,\n  394,\n  395,\n  397,\n  398,\n  399,\n  400,\n  401,\n  402,\n  404,\n  405,\n  406,\n  407,\n  409,\n  411,\n  414,\n  415,\n  418,\n  420,\n  421,\n  424,\n  425,\n  427,\n  428,\n  433,\n  435,\n  437,\n  439,\n  440,\n  441,\n  443,\n  446,\n  448,\n  449,\n  451,\n  459,\n  460,\n  462,\n  464,\n  466,\n  471,\n  474,\n  475,\n  477,\n  480,\n  481,\n  482,\n  484,\n  488,\n  490,\n  492,\n  493,\n  496,\n  499,\n  500,\n  501,\n  502,\n  503,\n  504,\n  506,\n  507,\n  509,\n  511,\n  513,\n  515,\n  516,\n  518,\n  520,\n  525,\n  526,\n  529,\n  533,\n  535,\n  538,\n  540,\n  541,\n  542,\n  543,\n  545,\n  547,\n  549,\n  550,\n  552,\n  556,\n  558,\n  559,\n  560,\n  561,\n  562,\n  567,\n  572,\n  573,\n  576,\n  577,\n  578,\n  579,\n  580,\n  581,\n  584,\n  587,\n  589,\n  590,\n  592,\n  593,\n  595,\n  597,\n  598,\n  601,\n  603,\n  605,\n  606,\n  607,\n  612,\n  613,\n  614,\n  615,\n  616,\n  619,\n  620,\n  621,\n  623,\n  624,\n  625,\n  626,\n  630,\n  633,\n  636,\n  637,\n  639,\n  642,\n  643,\n  645,\n  646,\n  647,\n  648,\n  652,\n  653,\n  654,\n  656,\n  660,\n  661,\n  662,\n  663,\n  667,\n  671,\n  678,\n  680,\n  681,\n  682,\n  683,\n  685,\n  689,\n  690,\n  692,\n  694,\n  695,\n  699,\n  700,\n  701,\n  702,\n  704,\n  707,\n  711,\n  713,\n  714,\n  715,\n  716,\n  719,\n  720,\n  722,\n  724,\n  728,\n  731,\n  734,\n  739,\n  740,\n  741,\n  750,\n  751,\n  752,\n  755,\n  756,\n  757,\n  760,\n  761,\n  762,\n  763,\n  766,\n  768,\n  770,\n  772,\n  773,\n  775,\n  776,\n  777,\n  778,\n  779,\n  783,\n  784,\n  785,\n  789,\n  792,\n  793,\n  794,\n  796,\n  797,\n  799,\n  800,\n  801,\n  804,\n  808,\n  810,\n  811,\n  812,\n  814,\n  817,\n  820,\n  822,\n  823,\n  825,\n  826,\n  827,\n  829,\n  831,\n  832,\n  833,\n  835,\n  836,\n  837,\n  840,\n  841,\n  842,\n  843,\n  844,\n  845,\n  846,\n  847,\n  848,\n  850,\n  851,\n  856,\n  858,\n  859,\n  860,\n  865,\n  866,\n  868,\n  869,\n  870,\n  871,\n  873,\n  877,\n  879,\n  882,\n  884,\n  885,\n  887,\n  888,\n  893,\n  894,\n  895,\n  897,\n  899,\n  902,\n  903,\n  904,\n  905,\n  907,\n  909,\n  910,\n  911,\n  912,\n  913,\n  914,\n  917,\n  918,\n  919,\n  920,\n  924,\n  927,\n  930,\n  931,\n  933,\n  934,\n  942,\n  943,\n  944,\n  945,\n  946,\n  949,\n  951,\n  953,\n  958,\n  961,\n  962,\n  963,\n  964,\n  965,\n  972,\n  975,\n  977,\n  980,\n  981,\n  984,\n  987,\n  989,\n  992,\n  993,\n  995,\n  996,\n  997,\n  998,\n  999,\n  1000,\n  1001,\n  1006,\n  1008,\n  1009,\n  1011,\n  1012,\n  1013,\n  1016,\n  1018,\n  1020,\n  1021,\n  1023,\n  1024,\n  1026,\n  1027,\n  1030,\n  1031,\n  1035,\n  1036,\n  1037,\n  1039,\n  1043,\n  1044,\n  1045,\n  1046,\n  1047,\n  1049,\n  1052,\n  1053,\n  1054,\n  1055,\n  1056,\n  1058,\n  1059,\n  1061,\n  1062,\n  1063,\n  1064,\n  1065,\n  1067,\n  1070,\n  1075,\n  1076,\n  1077,\n  1078,\n  1080,\n  1081,\n  1084,\n  1085,\n  1088,\n  1091,\n  1093,\n  1094,\n  1097,\n  1099,\n  1101,\n  1102,\n  1103,\n  1105,\n  1106,\n  1109,\n  1113,\n  1114,\n  1116,\n  1117,\n  1118,\n  1119,\n  1120,\n  1122,\n  1124,\n  1126,\n  1127,\n  1128,\n  1135,\n  1136,\n  1140,\n  1143,\n  1146,\n  1149,\n  1156,\n  1158,\n  1160,\n  1162,\n  1164,\n  1165,\n  1168,\n  1169,\n  1171,\n  1172,\n  1175,\n  1177,\n  1178,\n  1179,\n  1181,\n  1184,\n  1188,\n  1189,\n  1190,\n  1191,\n  1192,\n  1193,\n  1194,\n  1195,\n  1198,\n  1199,\n  1200,\n  1202,\n  1203,\n  1206,\n  1207,\n  1209,\n  1214,\n  1215,\n  1217,\n  1218,\n  1219,\n  1221,\n  1223,\n  1225,\n  1226,\n  1227,\n  1228,\n  1230,\n  1231,\n  1234,\n  1235,\n  1242,\n  1243,\n  1246,\n  1248,\n  1249,\n  1254,\n  1255,\n  1256,\n  1260,\n  1262,\n  1263,\n  1265,\n  1267,\n  1269,\n  1270,\n  1271,\n  1272,\n  1274,\n  1276,\n  1278,\n  1279,\n  1281,\n  1283,\n  1284,\n  1285,\n  1286,\n  1287,\n  1288,\n  1289,\n  1290,\n  1291,\n  1295,\n  1296,\n  1297,\n  1298,\n  1299,\n  1302,\n  1303,\n  1307,\n  1310,\n  1311,\n  1313,\n  1314,\n  1317,\n  1318,\n  1319,\n  1323,\n  1324,\n  1326,\n  1327,\n  1328,\n  1329,\n  1336,\n  1338,\n  1339,\n  1345,\n  1352,\n  1353,\n  1355,\n  1357,\n  1360,\n  1363,\n  1364,\n  1367,\n  1368,\n  1370,\n  1371,\n  1373,\n  1376,\n  1377,\n  1378,\n  1381,\n  1382,\n  1383,\n  1384,\n  1388,\n  1389,\n  1390,\n  1391,\n  1394,\n  1397,\n  1398,\n  1399,\n  1400,\n  1402,\n  1404,\n  1405,\n  1407,\n  1408,\n  1409,\n  1413,\n  1415,\n  1417,\n  1421,\n  1430,\n  1432,\n  1438,\n  1440,\n  1442,\n  1444,\n  1445,\n  1449,\n  1450,\n  1451,\n  1453,\n  1454,\n  1456,\n  1457,\n  1458,\n  1462,\n  1463,\n  1464,\n  1468,\n  1469,\n  1470,\n  1473,\n  1476,\n  1479,\n  1481,\n  1483,\n  1484,\n  1493,\n  1495,\n  1496,\n  1498,\n  1499,\n  1505,\n  1506,\n  1507,\n  1508,\n  1510,\n  1515,\n  1516,\n  1517,\n  1518,\n  1520,\n  1522,\n  1525,\n  1531,\n  1532,\n  1534,\n  1535,\n  1536,\n  1539,\n  1540,\n  1541,\n  1543,\n  1548,\n  1550,\n  1551,\n  1552,\n  1553,\n  1558,\n  1560,\n  1563,\n  1564,\n  1565,\n  1570,\n  1572,\n  1573,\n  1576,\n  1577,\n  1578,\n  1579,\n  1581,\n  1586,\n  1587,\n  1588,\n  1589,\n  1590,\n  1591,\n  1592,\n  1593,\n  1594,\n  1595,\n  1597,\n  1603,\n  1605,\n  1606,\n  1607,\n  1608,\n  1610,\n  1613,\n  1614,\n  1615,\n  1617,\n  1618,\n  1620,\n  1621,\n  1622,\n  1623,\n  1624,\n  1625,\n  1626,\n  1627,\n  1629,\n  1630,\n  1633,\n  1634,\n  1635,\n  1638,\n  1640,\n  1643,\n  1645,\n  1646,\n  1648,\n  1650,\n  1651,\n  1654,\n  1655,\n  1657,\n  1658,\n  1662,\n  1663,\n  1664,\n  1665,\n  1667,\n  1668,\n  1669,\n  1670,\n  1671,\n  1674,\n  1676,\n  1678,\n  1679,\n  1680,\n  1682,\n  1683,\n  1685,\n  1686,\n  1691,\n  1692,\n  1693,\n  1695,\n  1697,\n  1699,\n  1702,\n  1703,\n  1706,\n  1709,\n  1713,\n  1714,\n  1718,\n  1723,\n  1725,\n  1727,\n  1728,\n  1732,\n  1734,\n  1735,\n  1736,\n  1737,\n  1738,\n  1742,\n  1745,\n  1746,\n  1748,\n  1751,\n  1752,\n  1756,\n  1757,\n  1758,\n  1760,\n  1763,\n  1766,\n  1770,\n  1771,\n  1773,\n  1774,\n  1775,\n  1776,\n  1777,\n  1779,\n  1781,\n  1785,\n  1786,\n  1787,\n  1788,\n  1789,\n  1794,\n  1795,\n  1797,\n  1803,\n  1804,\n  1805,\n  1807,\n  1808,\n  1814,\n  1815,\n  1817,\n  1820,\n  1821,\n  1822,\n  1827,\n  1829,\n  1830,\n  1834,\n  1838,\n  1841,\n  1842,\n  1843,\n  1844,\n  1845,\n  1846,\n  1847,\n  1849,\n  1850,\n  1852,\n  1853,\n  1856,\n  1857,\n  1861,\n  1862,\n  1865,\n  1868,\n  1871,\n  1873,\n  1874,\n  1875,\n  1877,\n  1878,\n  1880,\n  1881,\n  1883,\n  1885,\n  1886,\n  1891,\n  1896,\n  1902,\n  1904,\n  1909,\n  1914,\n  1918,\n  1919,\n  1920,\n  1921,\n  1923,\n  1926,\n  1928,\n  1929,\n  1931,\n  1935,\n  1936,\n  1937,\n  1938,\n  1939,\n  1941,\n  1943,\n  1945,\n  1947,\n  1951,\n  1953,\n  1954,\n  1955,\n  1956,\n  1957,\n  1959,\n  1962,\n  1963,\n  1964,\n  1967,\n  1968,\n  1970,\n  1971,\n  1972,\n  1973,\n  1974,\n  1975,\n  1980,\n  1981,\n  1982,\n  1984,\n  1986,\n  1989,\n  1991,\n  1992,\n  1996,\n  1997,\n  2000,\n  2001,\n  ...]]"
     },
     "execution_count": 17,
     "metadata": {},
     "output_type": "execute_result"
    }
   ],
   "source": [
    "present_rows"
   ],
   "metadata": {
    "collapsed": false,
    "pycharm": {
     "name": "#%%\n"
    }
   }
  },
  {
   "cell_type": "markdown",
   "source": [],
   "metadata": {
    "collapsed": false,
    "pycharm": {
     "name": "#%% md\n"
    }
   }
  },
  {
   "cell_type": "code",
   "execution_count": 35,
   "outputs": [
    {
     "name": "stdout",
     "output_type": "stream",
     "text": [
      "True\n",
      "True\n",
      "True\n",
      "True\n",
      "True\n",
      "True\n",
      "True\n",
      "True\n",
      "True\n",
      "True\n",
      "True\n"
     ]
    }
   ],
   "source": [
    "for i in range(11):\n",
    "    print(present_rows[i] == pp[i])"
   ],
   "metadata": {
    "collapsed": false,
    "pycharm": {
     "name": "#%%\n"
    }
   }
  },
  {
   "cell_type": "code",
   "execution_count": 34,
   "outputs": [],
   "source": [
    "pp = [v.nonzero(as_tuple=True)[0].tolist() for v in nonzero_output.values()]\n",
    "pp.insert(0, [0,1,2])"
   ],
   "metadata": {
    "collapsed": false,
    "pycharm": {
     "name": "#%%\n"
    }
   }
  },
  {
   "cell_type": "code",
   "execution_count": null,
   "outputs": [],
   "source": [],
   "metadata": {
    "collapsed": false,
    "pycharm": {
     "name": "#%%\n"
    }
   }
  }
 ],
 "metadata": {
  "kernelspec": {
   "display_name": "Python 3 (ipykernel)",
   "language": "python",
   "name": "python3"
  },
  "language_info": {
   "codemirror_mode": {
    "name": "ipython",
    "version": 3
   },
   "file_extension": ".py",
   "mimetype": "text/x-python",
   "name": "python",
   "nbconvert_exporter": "python",
   "pygments_lexer": "ipython3",
   "version": "3.8.10"
  }
 },
 "nbformat": 4,
 "nbformat_minor": 4
}